{
 "cells": [
  {
   "cell_type": "markdown",
   "metadata": {},
   "source": [
    "## Mini Exercises to get experienced with Python Decorators"
   ]
  },
  {
   "cell_type": "markdown",
   "metadata": {},
   "source": [
    "### **Exercise 1: Assign a Function to a Variable** \n",
    "\n",
    "Create a function called `square` that returns the square of a number and assign it to another variable before calling it."
   ]
  },
  {
   "cell_type": "code",
   "execution_count": 1,
   "metadata": {},
   "outputs": [
    {
     "name": "stdout",
     "output_type": "stream",
     "text": [
      "16\n"
     ]
    }
   ],
   "source": [
    "def square(a: float) -> float:\n",
    "    return a**2\n",
    "\n",
    "four_square = square\n",
    "print(four_square(4))"
   ]
  },
  {
   "cell_type": "markdown",
   "metadata": {},
   "source": [
    "### **Exercise 2: Create a Nested Function** \n",
    "\n",
    "Write a function `outer(text)` that returns another function that uppercases the text."
   ]
  },
  {
   "cell_type": "code",
   "execution_count": 2,
   "metadata": {},
   "outputs": [
    {
     "name": "stdout",
     "output_type": "stream",
     "text": [
      "WORLD\n"
     ]
    }
   ],
   "source": [
    "def outer(name: str) -> str:\n",
    "    name = name\n",
    "    def upper(name):\n",
    "        return \"{}\".format(name.upper())\n",
    "    return upper\n",
    "\n",
    "hello = outer(name=\"World\")\n",
    "print(hello(name=\"World\"))"
   ]
  },
  {
   "cell_type": "markdown",
   "metadata": {},
   "source": [
    "### **Exercise 3: Pass a Function as an Argument** \n",
    "\n",
    "Write a function `apply_twice(func, value)` that applies `func` to `value` twice."
   ]
  },
  {
   "cell_type": "code",
   "execution_count": 6,
   "metadata": {},
   "outputs": [
    {
     "name": "stdout",
     "output_type": "stream",
     "text": [
      "Hello\n",
      "Hello\n"
     ]
    }
   ],
   "source": [
    "def apply_twice(func, value):\n",
    "    for i in range(2):\n",
    "        func(value)\n",
    "\n",
    "apply_twice(print, \"Hello\")"
   ]
  },
  {
   "cell_type": "markdown",
   "metadata": {},
   "source": [
    "### **Exercise 4: Create a Simple Decorator** \n",
    "\n",
    "Create a decorator `log_decorator` that prints `\"Function is running...\"` before executing the function."
   ]
  },
  {
   "cell_type": "code",
   "execution_count": 7,
   "metadata": {},
   "outputs": [
    {
     "name": "stdout",
     "output_type": "stream",
     "text": [
      "Function is running...\n",
      "Hello\n"
     ]
    }
   ],
   "source": [
    "def log_decorator(func):\n",
    "    def wrapper():\n",
    "        print(\"Function is running...\")\n",
    "        func()\n",
    "    return wrapper\n",
    "    \n",
    "@log_decorator\n",
    "def say_hello():\n",
    "    print(\"Hello\")\n",
    "\n",
    "say_hello()"
   ]
  },
  {
   "cell_type": "markdown",
   "metadata": {},
   "source": [
    "### **Exercise 5: Use `functools.wraps`** \n",
    "\n",
    "Modify your `log_decorator` to use `functools.wraps` and preserve function metadata."
   ]
  },
  {
   "cell_type": "code",
   "execution_count": 11,
   "metadata": {},
   "outputs": [
    {
     "name": "stdout",
     "output_type": "stream",
     "text": [
      "Function is running...\n",
      "hello\n"
     ]
    }
   ],
   "source": [
    "import functools\n",
    "\n",
    "def log_decorator(func):\n",
    "    @functools.wraps(func)\n",
    "    def wrapper(*args, **kwargs):\n",
    "        print(\"Function is running...\")\n",
    "        result = func(*args, **kwargs)\n",
    "        return result\n",
    "    return wrapper\n",
    "\n",
    "@log_decorator\n",
    "def add(a, b):\n",
    "    return a + b\n",
    "\n",
    "@log_decorator\n",
    "def text(sthg):\n",
    "    print(sthg)\n",
    "\n",
    "text(\"hello\")"
   ]
  },
  {
   "cell_type": "markdown",
   "metadata": {},
   "source": [
    "### **Exercise 6: Create a Parameterized Decorator** \n",
    "\n",
    "Create a decorator `delay(seconds)` that delays the function execution by `seconds` using `time.sleep`."
   ]
  },
  {
   "cell_type": "code",
   "execution_count": 21,
   "metadata": {},
   "outputs": [],
   "source": [
    "import time\n",
    "\n",
    "def delay(seconds):\n",
    "    def decorator(func):\n",
    "        @functools.wraps(func)\n",
    "        def wrapper(*args, **kwargs):\n",
    "            time.sleep(seconds)\n",
    "            func(*args, **kwargs)\n",
    "        return wrapper\n",
    "    return decorator\n",
    "\n",
    "@delay(2)\n",
    "def say_hello():\n",
    "    return \"hello\"\n"
   ]
  },
  {
   "cell_type": "code",
   "execution_count": 22,
   "metadata": {},
   "outputs": [
    {
     "name": "stdout",
     "output_type": "stream",
     "text": [
      "2.003600597381592\n"
     ]
    }
   ],
   "source": [
    "start_time = time.time()\n",
    "say_hello()\n",
    "execution_time = time.time() - start_time\n",
    "print(execution_time)"
   ]
  },
  {
   "cell_type": "markdown",
   "metadata": {},
   "source": [
    "Delay works properly"
   ]
  },
  {
   "cell_type": "markdown",
   "metadata": {},
   "source": [
    "### **Exercise 7: Stack Decorators** \n",
    "Create two decorators `bold` and `italic`, then apply them to a function `greet()` to return a bold and italic string."
   ]
  },
  {
   "cell_type": "code",
   "execution_count": 38,
   "metadata": {},
   "outputs": [],
   "source": [
    "def bold(func):\n",
    "    @functools.wraps(func)\n",
    "    def wrapper(*args, **kwargs):\n",
    "        return '<b>' + func(*args, **kwargs) + '</b>'\n",
    "    return wrapper\n",
    "\n",
    "def italic(func):\n",
    "    @functools.wraps(func)\n",
    "    def wrapper(*args, **kwargs):\n",
    "        return '<i>' + func(*args, **kwargs) + '</i>'\n",
    "    return wrapper\n",
    "\n",
    "@bold\n",
    "@italic\n",
    "def bold_and_italic_text(text):\n",
    "    return text"
   ]
  },
  {
   "cell_type": "code",
   "execution_count": 39,
   "metadata": {},
   "outputs": [
    {
     "name": "stdout",
     "output_type": "stream",
     "text": [
      "<b><i>Hello</i></b>\n"
     ]
    }
   ],
   "source": [
    "print(bold_and_italic_text(\"Hello\"))"
   ]
  },
  {
   "cell_type": "markdown",
   "metadata": {},
   "source": [
    "### **Exercise 8: Create a Class-Based Decorator** \n",
    "\n",
    "Create a class `Timer` that measures and prints the execution time of a function."
   ]
  },
  {
   "cell_type": "code",
   "execution_count": 62,
   "metadata": {},
   "outputs": [
    {
     "name": "stdout",
     "output_type": "stream",
     "text": [
      "Hello!\n",
      "Execution time of 0.0010156631469726562\n"
     ]
    }
   ],
   "source": [
    "class Timer:\n",
    "    def __init__(self, func):\n",
    "        self.func = func\n",
    "        self.start_time = 0\n",
    "\n",
    "    def __call__(self, *args, **kwargs):\n",
    "        self.start_time = time.time()\n",
    "        self.func(*args, **kwargs)\n",
    "        self.end_time = time.time()\n",
    "        print(f\"Execution time of {self.end_time - self.start_time}\")\n",
    "\n",
    "@Timer\n",
    "def say_hello():\n",
    "    print(\"Hello!\")\n",
    "\n",
    "say_hello()"
   ]
  }
 ],
 "metadata": {
  "kernelspec": {
   "display_name": "Python 3",
   "language": "python",
   "name": "python3"
  },
  "language_info": {
   "codemirror_mode": {
    "name": "ipython",
    "version": 3
   },
   "file_extension": ".py",
   "mimetype": "text/x-python",
   "name": "python",
   "nbconvert_exporter": "python",
   "pygments_lexer": "ipython3",
   "version": "3.10.0"
  }
 },
 "nbformat": 4,
 "nbformat_minor": 2
}
