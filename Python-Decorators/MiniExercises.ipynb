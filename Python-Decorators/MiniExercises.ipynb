{
 "cells": [
  {
   "cell_type": "markdown",
   "metadata": {},
   "source": [
    "## Mini Exercises to get experienced with Python Decorators"
   ]
  },
  {
   "cell_type": "markdown",
   "metadata": {},
   "source": [
    "### **Exercise 1: Assign a Function to a Variable** \n",
    "\n",
    "Create a function called `square` that returns the square of a number and assign it to another variable before calling it."
   ]
  },
  {
   "cell_type": "code",
   "execution_count": 1,
   "metadata": {},
   "outputs": [
    {
     "name": "stdout",
     "output_type": "stream",
     "text": [
      "16\n"
     ]
    }
   ],
   "source": [
    "def square(a: float) -> float:\n",
    "    return a**2\n",
    "\n",
    "four_square = square\n",
    "print(four_square(4))"
   ]
  },
  {
   "cell_type": "markdown",
   "metadata": {},
   "source": [
    "### **Exercise 2: Create a Nested Function** \n",
    "\n",
    "Write a function `outer(text)` that returns another function that uppercases the text."
   ]
  },
  {
   "cell_type": "code",
   "execution_count": 2,
   "metadata": {},
   "outputs": [
    {
     "name": "stdout",
     "output_type": "stream",
     "text": [
      "WORLD\n"
     ]
    }
   ],
   "source": [
    "def outer(name: str) -> str:\n",
    "    name = name\n",
    "    def upper(name):\n",
    "        return \"{}\".format(name.upper())\n",
    "    return upper\n",
    "\n",
    "hello = outer(name=\"World\")\n",
    "print(hello(name=\"World\"))"
   ]
  },
  {
   "cell_type": "markdown",
   "metadata": {},
   "source": [
    "### **Exercise 3: Pass a Function as an Argument** \n",
    "\n",
    "Write a function `apply_twice(func, value)` that applies `func` to `value` twice."
   ]
  },
  {
   "cell_type": "code",
   "execution_count": 4,
   "metadata": {},
   "outputs": [
    {
     "name": "stdout",
     "output_type": "stream",
     "text": [
      "Hello\n",
      "Hello\n"
     ]
    }
   ],
   "source": [
    "def apply_twice(func, value):\n",
    "    for i in range(2):\n",
    "        func(value)\n",
    "\n",
    "apply_twice(print, \"Hello\")"
   ]
  },
  {
   "cell_type": "markdown",
   "metadata": {},
   "source": [
    "### **Exercise 4: Create a Simple Decorator** \n",
    "\n",
    "Create a decorator `log_decorator` that prints `\"Function is running...\"` before executing the function."
   ]
  },
  {
   "cell_type": "code",
   "execution_count": 5,
   "metadata": {},
   "outputs": [
    {
     "name": "stdout",
     "output_type": "stream",
     "text": [
      "Function is running...\n",
      "Hello\n"
     ]
    }
   ],
   "source": [
    "def log_decorator(func):\n",
    "    def wrapper():\n",
    "        print(\"Function is running...\")\n",
    "        func()\n",
    "    return wrapper\n",
    "    \n",
    "@log_decorator\n",
    "def say_hello():\n",
    "    print(\"Hello\")\n",
    "\n",
    "say_hello()"
   ]
  }
 ],
 "metadata": {
  "kernelspec": {
   "display_name": "Python 3",
   "language": "python",
   "name": "python3"
  },
  "language_info": {
   "codemirror_mode": {
    "name": "ipython",
    "version": 3
   },
   "file_extension": ".py",
   "mimetype": "text/x-python",
   "name": "python",
   "nbconvert_exporter": "python",
   "pygments_lexer": "ipython3",
   "version": "3.10.0"
  }
 },
 "nbformat": 4,
 "nbformat_minor": 2
}
