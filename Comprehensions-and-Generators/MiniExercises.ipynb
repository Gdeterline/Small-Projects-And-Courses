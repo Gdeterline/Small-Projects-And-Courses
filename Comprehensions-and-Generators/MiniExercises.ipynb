{
 "cells": [
  {
   "cell_type": "markdown",
   "metadata": {},
   "source": [
    "## Comprehensions and Generators in Python - Exercises"
   ]
  },
  {
   "cell_type": "markdown",
   "metadata": {},
   "source": [
    "### **Exercise 1: Create a List of Even Numbers** \n",
    "\n",
    "Create a list of even numbers from 1 to 20 using list comprehension."
   ]
  },
  {
   "cell_type": "code",
   "execution_count": 2,
   "metadata": {},
   "outputs": [
    {
     "name": "stdout",
     "output_type": "stream",
     "text": [
      "[2, 4, 6, 8, 10, 12, 14, 16, 18]\n"
     ]
    }
   ],
   "source": [
    "even_nbs = [i for i in range(1, 20) if (i%2 == 0)]\n",
    "print(even_nbs)"
   ]
  },
  {
   "cell_type": "markdown",
   "metadata": {},
   "source": [
    "The other way around to do it, without using if statement is to use range(1, 10) and multiply i by 2"
   ]
  },
  {
   "cell_type": "code",
   "execution_count": 3,
   "metadata": {},
   "outputs": [
    {
     "name": "stdout",
     "output_type": "stream",
     "text": [
      "[2, 4, 6, 8, 10, 12, 14, 16, 18]\n"
     ]
    }
   ],
   "source": [
    "even_nbs = [2*i for i in range(1, 10)]\n",
    "print(even_nbs)"
   ]
  },
  {
   "cell_type": "markdown",
   "metadata": {},
   "source": [
    "### **Exercise 2: Categorize Numbers** \n",
    "\n",
    "Write a comprehension that generates `\"Positive\"` if the number is positive, `\"Negative\"` if negative, and `\"Zero\"` otherwise, for numbers from -5 to 5."
   ]
  },
  {
   "cell_type": "code",
   "execution_count": 5,
   "metadata": {},
   "outputs": [
    {
     "name": "stdout",
     "output_type": "stream",
     "text": [
      "['Negative', 'Negative', 'Negative', 'Negative', 'Negative', 'Zero', 'Positive', 'Positive', 'Positive', 'Positive', 'Positive']\n"
     ]
    }
   ],
   "source": [
    "list = [\"Negative\" if i < 0 else \"Zero\" if i == 0 else \"Positive\" for i in range(-5, 6)]\n",
    "print(list)"
   ]
  },
  {
   "cell_type": "markdown",
   "metadata": {},
   "source": [
    "### **Exercise 3: Flatten a Nested List** \n",
    "\n",
    "Given `nested_list = [[1, 2, 3], [4, 5, 6], [7, 8, 9]]`, use list comprehension to flatten it into a single list."
   ]
  },
  {
   "cell_type": "code",
   "execution_count": 13,
   "metadata": {},
   "outputs": [
    {
     "name": "stdout",
     "output_type": "stream",
     "text": [
      "[1, 2, 3, 4, 5, 6, 7, 8, 9]\n"
     ]
    }
   ],
   "source": [
    "nested_list = [[1, 2, 3], [4, 5, 6], [7, 8, 9]]\n",
    "flattened_list = [j for i in nested_list for j in i ]\n",
    "print(flattened_list)\n"
   ]
  },
  {
   "cell_type": "markdown",
   "metadata": {},
   "source": [
    "### **Exercise 4: Reverse Key-Value Pairs** \n",
    "\n",
    "Given `original = {'a': 1, 'b': 2, 'c': 3}`, create a dictionary swapping keys and values."
   ]
  },
  {
   "cell_type": "code",
   "execution_count": 18,
   "metadata": {},
   "outputs": [
    {
     "name": "stdout",
     "output_type": "stream",
     "text": [
      "{1: 'a', 2: 'b', 3: 'c'}\n"
     ]
    }
   ],
   "source": [
    "original = {'a': 1, 'b': 2, 'c': 3}\n",
    "new = {values: keys for keys, values in original.items()}\n",
    "print(new)"
   ]
  },
  {
   "cell_type": "markdown",
   "metadata": {},
   "source": [
    "### **Exercise 5: Filter Students Who Passed** \n",
    "\n",
    "Given `grades = {\"Alice\": 85, \"Bob\": 60, \"Charlie\": 72}`, create a dictionary of students who scored at least 70."
   ]
  },
  {
   "cell_type": "code",
   "execution_count": 20,
   "metadata": {},
   "outputs": [
    {
     "name": "stdout",
     "output_type": "stream",
     "text": [
      "{'Alice': 85, 'Charlie': 72}\n"
     ]
    }
   ],
   "source": [
    "grades = {\"Alice\": 85, \"Bob\": 60, \"Charlie\": 72}\n",
    "higher_grades = {keys: values for keys, values in grades.items() if values >= 70}\n",
    "print(higher_grades)"
   ]
  },
  {
   "cell_type": "markdown",
   "metadata": {},
   "source": [
    "### **Exercise 6: Extract Unique Words** \n",
    "\n",
    "Given `sentence = \"Python is great and Python is fun\"`, create a set of unique words."
   ]
  },
  {
   "cell_type": "code",
   "execution_count": 27,
   "metadata": {},
   "outputs": [
    {
     "name": "stdout",
     "output_type": "stream",
     "text": [
      "['is', 'Python', 'great', 'fun', 'and']\n"
     ]
    }
   ],
   "source": [
    "sentence = \"Python is great and Python is fun\"\n",
    "unique_words = [word for word in set(sentence.split())]\n",
    "print(unique_words)"
   ]
  },
  {
   "cell_type": "markdown",
   "metadata": {},
   "source": [
    "### **Exercise 7: Fibonacci Generator** \n",
    "\n",
    "Write a generator function that produces the Fibonacci sequence.\n"
   ]
  },
  {
   "cell_type": "code",
   "execution_count": 46,
   "metadata": {},
   "outputs": [
    {
     "name": "stdout",
     "output_type": "stream",
     "text": [
      "1\n",
      "1\n",
      "2\n",
      "3\n",
      "5\n",
      "8\n",
      "13\n",
      "21\n",
      "34\n",
      "55\n"
     ]
    }
   ],
   "source": [
    "def fibonacci():\n",
    "    a, b = 0, 1\n",
    "    while True:\n",
    "        yield b\n",
    "        a, b = b, a + b\n",
    "\n",
    "obj = fibonacci()\n",
    "\n",
    "for i in range(10):\n",
    "    print(next(obj))\n",
    "\n"
   ]
  },
  {
   "cell_type": "markdown",
   "metadata": {},
   "source": [
    "### **Exercise 8: Sum of Squares** \n",
    "\n",
    "Use a generator expression to compute the sum of squares of numbers from 1 to 100."
   ]
  },
  {
   "cell_type": "code",
   "execution_count": 49,
   "metadata": {},
   "outputs": [],
   "source": [
    "# Generator function\n",
    "\n",
    "def sum_squares():\n",
    "    sum = 0\n",
    "    for i in range(1, 101):\n",
    "        yield sum\n",
    "        sum += i**2\n",
    "\n",
    "obj = sum_squares()\n",
    "\n",
    "#for i in range(100):\n",
    "    #print(next(obj))"
   ]
  },
  {
   "cell_type": "code",
   "execution_count": 57,
   "metadata": {},
   "outputs": [
    {
     "name": "stdout",
     "output_type": "stream",
     "text": [
      "338350\n"
     ]
    }
   ],
   "source": [
    "# Generator expression\n",
    "\n",
    "sum_squares = sum(i**2 for i in range(101))\n",
    "print(sum_squares)"
   ]
  },
  {
   "cell_type": "markdown",
   "metadata": {},
   "source": [
    "### **Exercise 9: Compare Memory Usage** \n",
    "Use `sys.getsizeof` to compare the memory usage of a list comprehension and a generator expression that compute cubes from 1 to 10,000."
   ]
  },
  {
   "cell_type": "code",
   "execution_count": 58,
   "metadata": {},
   "outputs": [],
   "source": [
    "import sys"
   ]
  },
  {
   "cell_type": "code",
   "execution_count": 59,
   "metadata": {},
   "outputs": [
    {
     "name": "stdout",
     "output_type": "stream",
     "text": [
      "Size of the comprehension is of 85176 bytes\n",
      "Size of the generator is of 104 bytes\n"
     ]
    }
   ],
   "source": [
    "cubes_comprehension = [i**3 for i in range(1, 10001)]\n",
    "cubes_generator = (i**3 for i in range(1, 10001))\n",
    "\n",
    "print(f\"Size of the comprehension is of {sys.getsizeof(cubes_comprehension)} bytes\")\n",
    "print(f\"Size of the generator is of {sys.getsizeof(cubes_generator)} bytes\")"
   ]
  },
  {
   "cell_type": "markdown",
   "metadata": {},
   "source": [
    "### **Exercise 10: Infinite Even Numbers** \n",
    "\n",
    "Write an infinite generator that yields even numbers starting from 0."
   ]
  },
  {
   "cell_type": "code",
   "execution_count": 67,
   "metadata": {},
   "outputs": [
    {
     "name": "stdout",
     "output_type": "stream",
     "text": [
      "0\n",
      "2\n",
      "4\n",
      "6\n"
     ]
    }
   ],
   "source": [
    "def pairs():\n",
    "    pair = 0\n",
    "    while True:\n",
    "        yield pair\n",
    "        pair += 2\n",
    "\n",
    "obj = pairs()\n",
    "for i in range(4):\n",
    "    print(next(obj))"
   ]
  }
 ],
 "metadata": {
  "kernelspec": {
   "display_name": "Python 3",
   "language": "python",
   "name": "python3"
  },
  "language_info": {
   "codemirror_mode": {
    "name": "ipython",
    "version": 3
   },
   "file_extension": ".py",
   "mimetype": "text/x-python",
   "name": "python",
   "nbconvert_exporter": "python",
   "pygments_lexer": "ipython3",
   "version": "3.10.0"
  }
 },
 "nbformat": 4,
 "nbformat_minor": 2
}
